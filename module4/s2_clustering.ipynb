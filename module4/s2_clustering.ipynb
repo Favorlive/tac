{
 "metadata": {
  "language_info": {
   "codemirror_mode": {
    "name": "ipython",
    "version": 3
   },
   "file_extension": ".py",
   "mimetype": "text/x-python",
   "name": "python",
   "nbconvert_exporter": "python",
   "pygments_lexer": "ipython3",
   "version": "3.8.5-final"
  },
  "orig_nbformat": 2,
  "kernelspec": {
   "name": "python3",
   "display_name": "Python 3"
  }
 },
 "nbformat": 4,
 "nbformat_minor": 2,
 "cells": [
  {
   "cell_type": "code",
   "execution_count": 1,
   "metadata": {},
   "outputs": [],
   "source": [
    "import collections\n",
    "import os\n",
    "import string\n",
    "import sys\n",
    "\n",
    "import pandas as pd\n",
    "from nltk import word_tokenize\n",
    "from nltk.corpus import stopwords\n",
    "from pprint import pprint\n",
    "from sklearn.cluster import KMeans\n",
    "from sklearn.feature_extraction.text import TfidfVectorizer"
   ]
  },
  {
   "cell_type": "code",
   "execution_count": 2,
   "metadata": {},
   "outputs": [
    {
     "output_type": "stream",
     "name": "stderr",
     "text": [
      "[nltk_data] Downloading package punkt to /home/favor/nltk_data...\n[nltk_data]   Package punkt is already up-to-date!\n"
     ]
    },
    {
     "output_type": "execute_result",
     "data": {
      "text/plain": [
       "True"
      ]
     },
     "metadata": {},
     "execution_count": 2
    }
   ],
   "source": [
    "import nltk\n",
    "\n",
    "nltk.download('punkt')"
   ]
  },
  {
   "cell_type": "code",
   "execution_count": 3,
   "metadata": {},
   "outputs": [],
   "source": [
    "data_path = \"../data/txt/\""
   ]
  },
  {
   "source": [
    "# Choix d'une décennie et du nombre de clusters"
   ],
   "cell_type": "markdown",
   "metadata": {}
  },
  {
   "cell_type": "code",
   "execution_count": 4,
   "metadata": {},
   "outputs": [],
   "source": [
    "DECADE = '1902'\n",
    "N_CLUSTERS = 2"
   ]
  },
  {
   "source": [
    "# Chargement des fichiers de la décennie"
   ],
   "cell_type": "markdown",
   "metadata": {}
  },
  {
   "cell_type": "code",
   "execution_count": 5,
   "metadata": {},
   "outputs": [],
   "source": [
    "files = [f for f in sorted(os.listdir(data_path)) if f\"_{DECADE[:-1]}\" in f]"
   ]
  },
  {
   "cell_type": "code",
   "execution_count": 6,
   "metadata": {},
   "outputs": [
    {
     "output_type": "execute_result",
     "data": {
      "text/plain": [
       "['Bxl_1900_Tome_I1_Part_1.txt',\n",
       " 'Bxl_1900_Tome_I1_Part_2.txt',\n",
       " 'Bxl_1900_Tome_I1_Part_3.txt',\n",
       " 'Bxl_1900_Tome_I1_Part_4.txt',\n",
       " 'Bxl_1900_Tome_I1_Part_5.txt',\n",
       " 'Bxl_1900_Tome_I1_Part_6.txt',\n",
       " 'Bxl_1900_Tome_I1_Part_7.txt',\n",
       " 'Bxl_1900_Tome_I1_Part_8.txt',\n",
       " 'Bxl_1900_Tome_I2_Part_1.txt',\n",
       " 'Bxl_1900_Tome_I2_Part_10.txt',\n",
       " 'Bxl_1900_Tome_I2_Part_11.txt',\n",
       " 'Bxl_1900_Tome_I2_Part_12.txt',\n",
       " 'Bxl_1900_Tome_I2_Part_13.txt',\n",
       " 'Bxl_1900_Tome_I2_Part_14.txt',\n",
       " 'Bxl_1900_Tome_I2_Part_2.txt',\n",
       " 'Bxl_1900_Tome_I2_Part_3.txt',\n",
       " 'Bxl_1900_Tome_I2_Part_4.txt',\n",
       " 'Bxl_1900_Tome_I2_Part_5.txt',\n",
       " 'Bxl_1900_Tome_I2_Part_6.txt',\n",
       " 'Bxl_1900_Tome_I2_Part_7.txt',\n",
       " 'Bxl_1900_Tome_I2_Part_8.txt',\n",
       " 'Bxl_1900_Tome_I2_Part_9.txt',\n",
       " 'Bxl_1900_Tome_II1_Part_1.txt',\n",
       " 'Bxl_1900_Tome_II1_Part_2.txt',\n",
       " 'Bxl_1901_Tome_I1_Part_1.txt',\n",
       " 'Bxl_1901_Tome_I1_Part_10.txt',\n",
       " 'Bxl_1901_Tome_I1_Part_2.txt',\n",
       " 'Bxl_1901_Tome_I1_Part_3.txt',\n",
       " 'Bxl_1901_Tome_I1_Part_4.txt',\n",
       " 'Bxl_1901_Tome_I1_Part_5.txt',\n",
       " 'Bxl_1901_Tome_I1_Part_6.txt',\n",
       " 'Bxl_1901_Tome_I1_Part_7.txt',\n",
       " 'Bxl_1901_Tome_I1_Part_8.txt',\n",
       " 'Bxl_1901_Tome_I1_Part_9.txt',\n",
       " 'Bxl_1901_Tome_I2_Part_1.txt',\n",
       " 'Bxl_1901_Tome_I2_Part_10.txt',\n",
       " 'Bxl_1901_Tome_I2_Part_11.txt',\n",
       " 'Bxl_1901_Tome_I2_Part_12.txt',\n",
       " 'Bxl_1901_Tome_I2_Part_13.txt',\n",
       " 'Bxl_1901_Tome_I2_Part_14.txt',\n",
       " 'Bxl_1901_Tome_I2_Part_15.txt',\n",
       " 'Bxl_1901_Tome_I2_Part_2.txt',\n",
       " 'Bxl_1901_Tome_I2_Part_3.txt',\n",
       " 'Bxl_1901_Tome_I2_Part_4.txt',\n",
       " 'Bxl_1901_Tome_I2_Part_5.txt',\n",
       " 'Bxl_1901_Tome_I2_Part_6.txt',\n",
       " 'Bxl_1901_Tome_I2_Part_7.txt',\n",
       " 'Bxl_1901_Tome_I2_Part_8.txt',\n",
       " 'Bxl_1901_Tome_I2_Part_9.txt',\n",
       " 'Bxl_1902_Tome_I1_Part_1.txt',\n",
       " 'Bxl_1902_Tome_I1_Part_2.txt',\n",
       " 'Bxl_1902_Tome_I1_Part_3.txt',\n",
       " 'Bxl_1902_Tome_I1_Part_4.txt',\n",
       " 'Bxl_1902_Tome_I1_Part_5.txt',\n",
       " 'Bxl_1902_Tome_I1_Part_6.txt',\n",
       " 'Bxl_1902_Tome_I1_Part_7.txt',\n",
       " 'Bxl_1902_Tome_I2_2_Part_1.txt',\n",
       " 'Bxl_1902_Tome_I2_2_Part_2.txt',\n",
       " 'Bxl_1902_Tome_I2_2_Part_3.txt',\n",
       " 'Bxl_1902_Tome_I2_2_Part_4.txt',\n",
       " 'Bxl_1902_Tome_I2_2_Part_5.txt',\n",
       " 'Bxl_1902_Tome_I2_2_Part_6.txt',\n",
       " 'Bxl_1902_Tome_I2_2_Part_7.txt',\n",
       " 'Bxl_1902_Tome_I2_2_Part_8.txt',\n",
       " 'Bxl_1902_Tome_I2_2_Part_9.txt',\n",
       " 'Bxl_1902_Tome_II1_Part_1.txt',\n",
       " 'Bxl_1902_Tome_II1_Part_2.txt',\n",
       " 'Bxl_1903_Tome_I1_Part_1.txt',\n",
       " 'Bxl_1903_Tome_I1_Part_2.txt',\n",
       " 'Bxl_1903_Tome_I1_Part_3.txt',\n",
       " 'Bxl_1903_Tome_I1_Part_4.txt',\n",
       " 'Bxl_1903_Tome_I1_Part_5.txt',\n",
       " 'Bxl_1903_Tome_I1_Part_6.txt',\n",
       " 'Bxl_1903_Tome_I1_Part_7.txt',\n",
       " 'Bxl_1903_Tome_I1_Part_8.txt',\n",
       " 'Bxl_1903_Tome_I1_Part_9.txt',\n",
       " 'Bxl_1903_Tome_I2_1_Part_1.txt',\n",
       " 'Bxl_1903_Tome_I2_1_Part_10.txt',\n",
       " 'Bxl_1903_Tome_I2_1_Part_2.txt',\n",
       " 'Bxl_1903_Tome_I2_1_Part_3.txt',\n",
       " 'Bxl_1903_Tome_I2_1_Part_4.txt',\n",
       " 'Bxl_1903_Tome_I2_1_Part_5.txt',\n",
       " 'Bxl_1903_Tome_I2_1_Part_6.txt',\n",
       " 'Bxl_1903_Tome_I2_1_Part_7.txt',\n",
       " 'Bxl_1903_Tome_I2_1_Part_8.txt',\n",
       " 'Bxl_1903_Tome_I2_1_Part_9.txt',\n",
       " 'Bxl_1903_Tome_I2_2_Part_1.txt',\n",
       " 'Bxl_1903_Tome_I2_2_Part_10.txt',\n",
       " 'Bxl_1903_Tome_I2_2_Part_11.txt',\n",
       " 'Bxl_1903_Tome_I2_2_Part_12.txt',\n",
       " 'Bxl_1903_Tome_I2_2_Part_2.txt',\n",
       " 'Bxl_1903_Tome_I2_2_Part_3.txt',\n",
       " 'Bxl_1903_Tome_I2_2_Part_4.txt',\n",
       " 'Bxl_1903_Tome_I2_2_Part_5.txt',\n",
       " 'Bxl_1903_Tome_I2_2_Part_6.txt',\n",
       " 'Bxl_1903_Tome_I2_2_Part_7.txt',\n",
       " 'Bxl_1903_Tome_I2_2_Part_8.txt',\n",
       " 'Bxl_1903_Tome_I2_2_Part_9.txt',\n",
       " 'Bxl_1903_Tome_II1_Part_1.txt',\n",
       " 'Bxl_1903_Tome_II1_Part_2.txt',\n",
       " 'Bxl_1904_Tome_I2_Part_1.txt',\n",
       " 'Bxl_1904_Tome_I2_Part_10.txt',\n",
       " 'Bxl_1904_Tome_I2_Part_11.txt',\n",
       " 'Bxl_1904_Tome_I2_Part_12.txt',\n",
       " 'Bxl_1904_Tome_I2_Part_13.txt',\n",
       " 'Bxl_1904_Tome_I2_Part_14.txt',\n",
       " 'Bxl_1904_Tome_I2_Part_15.txt',\n",
       " 'Bxl_1904_Tome_I2_Part_16.txt',\n",
       " 'Bxl_1904_Tome_I2_Part_17.txt',\n",
       " 'Bxl_1904_Tome_I2_Part_18.txt',\n",
       " 'Bxl_1904_Tome_I2_Part_2.txt',\n",
       " 'Bxl_1904_Tome_I2_Part_3.txt',\n",
       " 'Bxl_1904_Tome_I2_Part_4.txt',\n",
       " 'Bxl_1904_Tome_I2_Part_5.txt',\n",
       " 'Bxl_1904_Tome_I2_Part_6.txt',\n",
       " 'Bxl_1904_Tome_I2_Part_7.txt',\n",
       " 'Bxl_1904_Tome_I2_Part_8.txt',\n",
       " 'Bxl_1904_Tome_I2_Part_9.txt',\n",
       " 'Bxl_1904_Tome_II1_Part_1.txt',\n",
       " 'Bxl_1904_Tome_II1_Part_2.txt',\n",
       " 'Bxl_1905_Tome_I1_Part_1.txt',\n",
       " 'Bxl_1905_Tome_I1_Part_10.txt',\n",
       " 'Bxl_1905_Tome_I1_Part_11.txt',\n",
       " 'Bxl_1905_Tome_I1_Part_12.txt',\n",
       " 'Bxl_1905_Tome_I1_Part_2.txt',\n",
       " 'Bxl_1905_Tome_I1_Part_3.txt',\n",
       " 'Bxl_1905_Tome_I1_Part_4.txt',\n",
       " 'Bxl_1905_Tome_I1_Part_5.txt',\n",
       " 'Bxl_1905_Tome_I1_Part_6.txt',\n",
       " 'Bxl_1905_Tome_I1_Part_7.txt',\n",
       " 'Bxl_1905_Tome_I1_Part_8.txt',\n",
       " 'Bxl_1905_Tome_I1_Part_9.txt',\n",
       " 'Bxl_1905_Tome_I2_Part_1.txt',\n",
       " 'Bxl_1905_Tome_I2_Part_10.txt',\n",
       " 'Bxl_1905_Tome_I2_Part_11.txt',\n",
       " 'Bxl_1905_Tome_I2_Part_12.txt',\n",
       " 'Bxl_1905_Tome_I2_Part_13.txt',\n",
       " 'Bxl_1905_Tome_I2_Part_14.txt',\n",
       " 'Bxl_1905_Tome_I2_Part_2.txt',\n",
       " 'Bxl_1905_Tome_I2_Part_3.txt',\n",
       " 'Bxl_1905_Tome_I2_Part_4.txt',\n",
       " 'Bxl_1905_Tome_I2_Part_5.txt',\n",
       " 'Bxl_1905_Tome_I2_Part_6.txt',\n",
       " 'Bxl_1905_Tome_I2_Part_7.txt',\n",
       " 'Bxl_1905_Tome_I2_Part_8.txt',\n",
       " 'Bxl_1905_Tome_I2_Part_9.txt',\n",
       " 'Bxl_1905_Tome_II1_Part_1.txt',\n",
       " 'Bxl_1905_Tome_II1_Part_2.txt',\n",
       " 'Bxl_1905_Tome_II1_Part_3.txt',\n",
       " 'Bxl_1906_Tome_I1_Part_1.txt',\n",
       " 'Bxl_1906_Tome_I1_Part_10.txt',\n",
       " 'Bxl_1906_Tome_I1_Part_11.txt',\n",
       " 'Bxl_1906_Tome_I1_Part_12.txt',\n",
       " 'Bxl_1906_Tome_I1_Part_13.txt',\n",
       " 'Bxl_1906_Tome_I1_Part_2.txt',\n",
       " 'Bxl_1906_Tome_I1_Part_3.txt',\n",
       " 'Bxl_1906_Tome_I1_Part_4.txt',\n",
       " 'Bxl_1906_Tome_I1_Part_5.txt',\n",
       " 'Bxl_1906_Tome_I1_Part_6.txt',\n",
       " 'Bxl_1906_Tome_I1_Part_7.txt',\n",
       " 'Bxl_1906_Tome_I1_Part_8.txt',\n",
       " 'Bxl_1906_Tome_I1_Part_9.txt',\n",
       " 'Bxl_1906_Tome_II1_Part_1.txt',\n",
       " 'Bxl_1906_Tome_II1_Part_2.txt',\n",
       " 'Bxl_1906_Tome_II1_Part_3.txt',\n",
       " 'Bxl_1907_Tome_I2_Part_1.txt',\n",
       " 'Bxl_1907_Tome_I2_Part_10.txt',\n",
       " 'Bxl_1907_Tome_I2_Part_11.txt',\n",
       " 'Bxl_1907_Tome_I2_Part_12.txt',\n",
       " 'Bxl_1907_Tome_I2_Part_13.txt',\n",
       " 'Bxl_1907_Tome_I2_Part_14.txt',\n",
       " 'Bxl_1907_Tome_I2_Part_15.txt',\n",
       " 'Bxl_1907_Tome_I2_Part_16.txt',\n",
       " 'Bxl_1907_Tome_I2_Part_2.txt',\n",
       " 'Bxl_1907_Tome_I2_Part_3.txt',\n",
       " 'Bxl_1907_Tome_I2_Part_4.txt',\n",
       " 'Bxl_1907_Tome_I2_Part_5.txt',\n",
       " 'Bxl_1907_Tome_I2_Part_6.txt',\n",
       " 'Bxl_1907_Tome_I2_Part_7.txt',\n",
       " 'Bxl_1907_Tome_I2_Part_8.txt',\n",
       " 'Bxl_1907_Tome_I2_Part_9.txt',\n",
       " 'Bxl_1907_Tome_II1_Part_1.txt',\n",
       " 'Bxl_1907_Tome_II1_Part_2.txt',\n",
       " 'Bxl_1907_Tome_II1_Part_3.txt',\n",
       " 'Bxl_1908_Tome_I1_Part_1.txt',\n",
       " 'Bxl_1908_Tome_I1_Part_10.txt',\n",
       " 'Bxl_1908_Tome_I1_Part_11.txt',\n",
       " 'Bxl_1908_Tome_I1_Part_12.txt',\n",
       " 'Bxl_1908_Tome_I1_Part_13.txt',\n",
       " 'Bxl_1908_Tome_I1_Part_2.txt',\n",
       " 'Bxl_1908_Tome_I1_Part_3.txt',\n",
       " 'Bxl_1908_Tome_I1_Part_4.txt',\n",
       " 'Bxl_1908_Tome_I1_Part_5.txt',\n",
       " 'Bxl_1908_Tome_I1_Part_6.txt',\n",
       " 'Bxl_1908_Tome_I1_Part_7.txt',\n",
       " 'Bxl_1908_Tome_I1_Part_8.txt',\n",
       " 'Bxl_1908_Tome_I1_Part_9.txt',\n",
       " 'Bxl_1908_Tome_II1_Part_1.txt',\n",
       " 'Bxl_1908_Tome_II1_Part_2.txt',\n",
       " 'Bxl_1908_Tome_II1_Part_3.txt',\n",
       " 'Bxl_1909_Tome_I2_1_Part_1.txt',\n",
       " 'Bxl_1909_Tome_I2_1_Part_10.txt',\n",
       " 'Bxl_1909_Tome_I2_1_Part_2.txt',\n",
       " 'Bxl_1909_Tome_I2_1_Part_3.txt',\n",
       " 'Bxl_1909_Tome_I2_1_Part_4.txt',\n",
       " 'Bxl_1909_Tome_I2_1_Part_5.txt',\n",
       " 'Bxl_1909_Tome_I2_1_Part_6.txt',\n",
       " 'Bxl_1909_Tome_I2_1_Part_7.txt',\n",
       " 'Bxl_1909_Tome_I2_1_Part_8.txt',\n",
       " 'Bxl_1909_Tome_I2_1_Part_9.txt',\n",
       " 'Bxl_1909_Tome_I2_2_Part_1.txt',\n",
       " 'Bxl_1909_Tome_I2_2_Part_10.txt',\n",
       " 'Bxl_1909_Tome_I2_2_Part_2.txt',\n",
       " 'Bxl_1909_Tome_I2_2_Part_3.txt',\n",
       " 'Bxl_1909_Tome_I2_2_Part_4.txt',\n",
       " 'Bxl_1909_Tome_I2_2_Part_5.txt',\n",
       " 'Bxl_1909_Tome_I2_2_Part_6.txt',\n",
       " 'Bxl_1909_Tome_I2_2_Part_7.txt',\n",
       " 'Bxl_1909_Tome_I2_2_Part_8.txt',\n",
       " 'Bxl_1909_Tome_I2_2_Part_9.txt',\n",
       " 'Bxl_1909_Tome_II1_Part_1.txt',\n",
       " 'Bxl_1909_Tome_II1_Part_2.txt',\n",
       " 'Bxl_1909_Tome_II1_Part_3.txt',\n",
       " 'Lkn_1901_Tome_RptAn_Part_1.txt',\n",
       " 'Lkn_1901_Tome_RptAn_Part_10.txt',\n",
       " 'Lkn_1901_Tome_RptAn_Part_2.txt',\n",
       " 'Lkn_1901_Tome_RptAn_Part_3.txt',\n",
       " 'Lkn_1901_Tome_RptAn_Part_4.txt',\n",
       " 'Lkn_1901_Tome_RptAn_Part_5.txt',\n",
       " 'Lkn_1901_Tome_RptAn_Part_6.txt',\n",
       " 'Lkn_1901_Tome_RptAn_Part_7.txt',\n",
       " 'Lkn_1901_Tome_RptAn_Part_8.txt',\n",
       " 'Lkn_1901_Tome_RptAn_Part_9.txt']"
      ]
     },
     "metadata": {},
     "execution_count": 6
    }
   ],
   "source": [
    "# Exemple de fichiers\n",
    "files[:1000]"
   ]
  },
  {
   "cell_type": "code",
   "execution_count": 7,
   "metadata": {},
   "outputs": [],
   "source": [
    "texts = [open(data_path + f).read() for f in files]"
   ]
  },
  {
   "cell_type": "code",
   "execution_count": 8,
   "metadata": {},
   "outputs": [
    {
     "output_type": "execute_result",
     "data": {
      "text/plain": [
       "\"VILLE\\n\\nDE\\n\\nBULLETIN\\n\\nBRUXELLES.\\n\\nCOMMUNAL\\n\\nANNÉE\\n\\nP R E M I È R E\\n\\nTOME\\n\\nCOMPTE\\n\\nRENDU\\n\\n1900.\\n\\nP A R T I E .\\n\\nI.\\n\\nDES\\n\\nSÉANCES,\\n\\nBRUXELLES,\\nIMPRIMERIE VEUVE JULIEN BAEllTSOEN, GRAND'PLACE, 5.\\n1900\\n\\n\\x0c\\x0cN°l.\\n\\nCOMPTE RENDU DE LA SÉANCE DU 8 JANVIER 1900.\\n\\nVILLE DE B R U X E L L E S\\n\\nBULLETIN\\n\\nCOMMUNAL\\n\\nANNÉE\\n\\nCONSEIL\\n\\n1900\\n\\nC O M M U N A L .\\n\\nSéance du 8 Janvier 1 9 0 0 .\\nPrésidence de M . EMILE D E M O T , Bourgmestre.\\n\\nSOMMAIRE :\\n\\n1.\\n2.\\n3.\\n4.\\n5.\\n6.\\n7.\\n7A.\\n8.\\n\\nPrestation de serment et installation des Conssi 11ers communaux\\nélus le 15 octobre 1899.\\nNomination et prestation de serment de quatre Echevins.\\nCommunications.\\nHommage à M . Charles Buis. — Proposition de MM. Leurs et\\nBrabandt. — Adoption.\\nPersonnel de l'Administration communale. — Délégation donnée\\nau Collège pour la nomination.\\nHospices. — Approbation d'actes divers d'administration.\\nHospices. — Participation dans la formation du capital de la\\nSociété des habitations à bon marché. — Avis favorable.\\nHospices et hôpitaux. — Règlement sur le service médical. —\\nModification. — Approbation.\\nRefuge Sainte-Gertrude. — Budget de 1899. — Crédits supplémentaires. — Id.\\n\\nRefuge des Ursulines. — Budget de 1899. — Crédit supplémentaire. — Id.\\n10. Eglise du Sablon. — Vente de terrains. — Avis favorable.\\n11. Cimetière. — Concessions de sépulture accordées.\\n11A. Caisse communale. — Vérification. — Pris pour notification\\n9.\\n\\n\\x0c(8 Janvier 1900)\\n12.\\n13.\\n\\n14.\\n\\n15.\\n16.\\n17.\\n18.\\n\\nChemin de fer vicinal de Bruxelles à Enghien. — Souscription\\nsu\""
      ]
     },
     "metadata": {},
     "execution_count": 8
    }
   ],
   "source": [
    "# Exemple de textes\n",
    "texts[0][:1500]"
   ]
  },
  {
   "source": [
    "# Vectorisation du texte"
   ],
   "cell_type": "markdown",
   "metadata": {}
  },
  {
   "cell_type": "code",
   "execution_count": 9,
   "metadata": {},
   "outputs": [],
   "source": [
    "def process_text(text, stem=True):\n",
    "    \"\"\" Tokenize text and remove punctuation \"\"\"\n",
    "    text = text.translate(string.punctuation)\n",
    "    tokens = word_tokenize(text)\n",
    "    return tokens"
   ]
  },
  {
   "cell_type": "code",
   "execution_count": 10,
   "metadata": {},
   "outputs": [],
   "source": [
    "vectorizer = TfidfVectorizer(tokenizer=process_text,\n",
    "                                stop_words=stopwords.words('french'),\n",
    "                                max_df=0.5,\n",
    "                                min_df=0.1,\n",
    "                                lowercase=True)"
   ]
  },
  {
   "cell_type": "code",
   "execution_count": 11,
   "metadata": {},
   "outputs": [
    {
     "output_type": "stream",
     "name": "stdout",
     "text": [
      "CPU times: user 2min 13s, sys: 378 ms, total: 2min 13s\nWall time: 4min 49s\n"
     ]
    }
   ],
   "source": [
    "%time tfidf_vectors = vectorizer.fit_transform(texts)"
   ]
  },
  {
   "cell_type": "code",
   "execution_count": 12,
   "metadata": {},
   "outputs": [
    {
     "output_type": "execute_result",
     "data": {
      "text/plain": [
       "<233x6745 sparse matrix of type '<class 'numpy.float64'>'\n",
       "\twith 335537 stored elements in Compressed Sparse Row format>"
      ]
     },
     "metadata": {},
     "execution_count": 12
    }
   ],
   "source": [
    "tfidf_vectors"
   ]
  },
  {
   "cell_type": "code",
   "execution_count": 28,
   "metadata": {},
   "outputs": [
    {
     "output_type": "execute_result",
     "data": {
      "text/plain": [
       "cochers        0.207570\n",
       "costumes       0.180229\n",
       "el             0.125428\n",
       "voiture        0.124241\n",
       "électeurs      0.115907\n",
       "                 ...   \n",
       "le+premier     0.000000\n",
       "le+projet      0.000000\n",
       "le+quartier    0.000000\n",
       "le+r           0.000000\n",
       "gymnase        0.000000\n",
       "Length: 6745, dtype: float64"
      ]
     },
     "metadata": {},
     "execution_count": 28
    }
   ],
   "source": [
    "# Exemple de vecteur TFIDF\n",
    "pd.Series(\n",
    "    tfidf_vectors[0].toarray()[0],\n",
    "    index=vectorizer.get_feature_names()\n",
    "    ).sort_values(ascending=False)"
   ]
  },
  {
   "source": [
    "# Comprendre les vecteurs et leurs \"distances\""
   ],
   "cell_type": "markdown",
   "metadata": {}
  },
  {
   "cell_type": "code",
   "execution_count": 14,
   "metadata": {},
   "outputs": [],
   "source": [
    "from scipy.spatial.distance import cosine"
   ]
  },
  {
   "cell_type": "code",
   "execution_count": 15,
   "metadata": {},
   "outputs": [
    {
     "output_type": "execute_result",
     "data": {
      "text/plain": [
       "0.0"
      ]
     },
     "metadata": {},
     "execution_count": 15
    }
   ],
   "source": [
    "cosine([1, 2, 3], [1, 2, 3])"
   ]
  },
  {
   "cell_type": "code",
   "execution_count": 16,
   "metadata": {},
   "outputs": [
    {
     "output_type": "execute_result",
     "data": {
      "text/plain": [
       "0.02004211298777725"
      ]
     },
     "metadata": {},
     "execution_count": 16
    }
   ],
   "source": [
    "cosine([1, 2, 3], [1, 2, 2])"
   ]
  },
  {
   "cell_type": "code",
   "execution_count": 17,
   "metadata": {},
   "outputs": [
    {
     "output_type": "execute_result",
     "data": {
      "text/plain": [
       "0.07417990022744858"
      ]
     },
     "metadata": {},
     "execution_count": 17
    }
   ],
   "source": [
    "cosine([1, 2, 3], [2, 2, 2])"
   ]
  },
  {
   "cell_type": "code",
   "execution_count": 18,
   "metadata": {},
   "outputs": [],
   "source": [
    "tfidf_array = tfidf_vectors.toarray()"
   ]
  },
  {
   "cell_type": "code",
   "execution_count": 19,
   "metadata": {},
   "outputs": [
    {
     "output_type": "execute_result",
     "data": {
      "text/plain": [
       "array([0.00641187, 0.        , 0.        , ..., 0.        , 0.        ,\n",
       "       0.        ])"
      ]
     },
     "metadata": {},
     "execution_count": 19
    }
   ],
   "source": [
    "tfidf_array[0]"
   ]
  },
  {
   "cell_type": "code",
   "execution_count": 29,
   "metadata": {},
   "outputs": [
    {
     "output_type": "execute_result",
     "data": {
      "text/plain": [
       "'(24 Décembre\\n\\n1900)\\n\\n§2. —\\n\\n988\\n\\n-\\n\\nPropriétés.\\n\\n— Les art. 12 à 14 sont adoptés.\\nArt. 15. « Produit des marchés affermés et des droits de\\nplace sur la voie publique » : 104,200 francs.\\nM . le Bourgme'"
      ]
     },
     "metadata": {},
     "execution_count": 29
    }
   ],
   "source": [
    "texts[10][:200]"
   ]
  },
  {
   "cell_type": "code",
   "execution_count": 31,
   "metadata": {},
   "outputs": [
    {
     "output_type": "execute_result",
     "data": {
      "text/plain": [
       "array([0.0086317 , 0.        , 0.        , ..., 0.        , 0.        ,\n",
       "       0.03168281])"
      ]
     },
     "metadata": {},
     "execution_count": 31
    }
   ],
   "source": [
    "tfidf_array[4]"
   ]
  },
  {
   "cell_type": "code",
   "execution_count": 22,
   "metadata": {},
   "outputs": [
    {
     "output_type": "execute_result",
     "data": {
      "text/plain": [
       "0.6012276518483897"
      ]
     },
     "metadata": {},
     "execution_count": 22
    }
   ],
   "source": [
    "cosine(tfidf_array[0], tfidf_array[1])"
   ]
  },
  {
   "cell_type": "code",
   "execution_count": 32,
   "metadata": {},
   "outputs": [
    {
     "output_type": "execute_result",
     "data": {
      "text/plain": [
       "0.9238305439169949"
      ]
     },
     "metadata": {},
     "execution_count": 32
    }
   ],
   "source": [
    "cosine(tfidf_array[3], tfidf_array[9])"
   ]
  },
  {
   "source": [
    "# Clustering des vecteurs TFIDF"
   ],
   "cell_type": "markdown",
   "metadata": {}
  },
  {
   "source": [
    "Article intéressant sur le KMeans clustering :\n",
    "- https://medium.com/dataseries/k-means-clustering-explained-visually-in-5-minutes-b900cc69d175"
   ],
   "cell_type": "markdown",
   "metadata": {}
  },
  {
   "cell_type": "code",
   "execution_count": 24,
   "metadata": {},
   "outputs": [],
   "source": [
    "km_model = KMeans(n_clusters=N_CLUSTERS)"
   ]
  },
  {
   "cell_type": "code",
   "execution_count": 25,
   "metadata": {},
   "outputs": [
    {
     "output_type": "execute_result",
     "data": {
      "text/plain": [
       "KMeans(n_clusters=2)"
      ]
     },
     "metadata": {},
     "execution_count": 25
    }
   ],
   "source": [
    "km_model.fit(tfidf_vectors)"
   ]
  },
  {
   "cell_type": "code",
   "execution_count": 26,
   "metadata": {},
   "outputs": [],
   "source": [
    "clustering = collections.defaultdict(list)\n",
    "\n",
    "for idx, label in enumerate(km_model.labels_):\n",
    "    clustering[label].append(files[idx])"
   ]
  },
  {
   "cell_type": "code",
   "execution_count": 27,
   "metadata": {},
   "outputs": [
    {
     "output_type": "stream",
     "name": "stdout",
     "text": [
      "{0: ['Bxl_1900_Tome_II1_Part_1.txt',\n     'Bxl_1900_Tome_II1_Part_2.txt',\n     'Bxl_1902_Tome_II1_Part_1.txt',\n     'Bxl_1902_Tome_II1_Part_2.txt',\n     'Bxl_1903_Tome_II1_Part_1.txt',\n     'Bxl_1903_Tome_II1_Part_2.txt',\n     'Bxl_1904_Tome_II1_Part_1.txt',\n     'Bxl_1904_Tome_II1_Part_2.txt',\n     'Bxl_1905_Tome_II1_Part_1.txt',\n     'Bxl_1905_Tome_II1_Part_2.txt',\n     'Bxl_1905_Tome_II1_Part_3.txt',\n     'Bxl_1906_Tome_II1_Part_1.txt',\n     'Bxl_1906_Tome_II1_Part_2.txt',\n     'Bxl_1906_Tome_II1_Part_3.txt',\n     'Bxl_1907_Tome_II1_Part_1.txt',\n     'Bxl_1907_Tome_II1_Part_2.txt',\n     'Bxl_1907_Tome_II1_Part_3.txt',\n     'Bxl_1908_Tome_II1_Part_1.txt',\n     'Bxl_1908_Tome_II1_Part_2.txt',\n     'Bxl_1908_Tome_II1_Part_3.txt',\n     'Bxl_1909_Tome_II1_Part_1.txt',\n     'Bxl_1909_Tome_II1_Part_2.txt'],\n 1: ['Bxl_1900_Tome_I1_Part_1.txt',\n     'Bxl_1900_Tome_I1_Part_2.txt',\n     'Bxl_1900_Tome_I1_Part_3.txt',\n     'Bxl_1900_Tome_I1_Part_4.txt',\n     'Bxl_1900_Tome_I1_Part_5.txt',\n     'Bxl_1900_Tome_I1_Part_6.txt',\n     'Bxl_1900_Tome_I1_Part_7.txt',\n     'Bxl_1900_Tome_I1_Part_8.txt',\n     'Bxl_1900_Tome_I2_Part_1.txt',\n     'Bxl_1900_Tome_I2_Part_10.txt',\n     'Bxl_1900_Tome_I2_Part_11.txt',\n     'Bxl_1900_Tome_I2_Part_12.txt',\n     'Bxl_1900_Tome_I2_Part_13.txt',\n     'Bxl_1900_Tome_I2_Part_14.txt',\n     'Bxl_1900_Tome_I2_Part_2.txt',\n     'Bxl_1900_Tome_I2_Part_3.txt',\n     'Bxl_1900_Tome_I2_Part_4.txt',\n     'Bxl_1900_Tome_I2_Part_5.txt',\n     'Bxl_1900_Tome_I2_Part_6.txt',\n     'Bxl_1900_Tome_I2_Part_7.txt',\n     'Bxl_1900_Tome_I2_Part_8.txt',\n     'Bxl_1900_Tome_I2_Part_9.txt',\n     'Bxl_1901_Tome_I1_Part_1.txt',\n     'Bxl_1901_Tome_I1_Part_10.txt',\n     'Bxl_1901_Tome_I1_Part_2.txt',\n     'Bxl_1901_Tome_I1_Part_3.txt',\n     'Bxl_1901_Tome_I1_Part_4.txt',\n     'Bxl_1901_Tome_I1_Part_5.txt',\n     'Bxl_1901_Tome_I1_Part_6.txt',\n     'Bxl_1901_Tome_I1_Part_7.txt',\n     'Bxl_1901_Tome_I1_Part_8.txt',\n     'Bxl_1901_Tome_I1_Part_9.txt',\n     'Bxl_1901_Tome_I2_Part_1.txt',\n     'Bxl_1901_Tome_I2_Part_10.txt',\n     'Bxl_1901_Tome_I2_Part_11.txt',\n     'Bxl_1901_Tome_I2_Part_12.txt',\n     'Bxl_1901_Tome_I2_Part_13.txt',\n     'Bxl_1901_Tome_I2_Part_14.txt',\n     'Bxl_1901_Tome_I2_Part_15.txt',\n     'Bxl_1901_Tome_I2_Part_2.txt',\n     'Bxl_1901_Tome_I2_Part_3.txt',\n     'Bxl_1901_Tome_I2_Part_4.txt',\n     'Bxl_1901_Tome_I2_Part_5.txt',\n     'Bxl_1901_Tome_I2_Part_6.txt',\n     'Bxl_1901_Tome_I2_Part_7.txt',\n     'Bxl_1901_Tome_I2_Part_8.txt',\n     'Bxl_1901_Tome_I2_Part_9.txt',\n     'Bxl_1902_Tome_I1_Part_1.txt',\n     'Bxl_1902_Tome_I1_Part_2.txt',\n     'Bxl_1902_Tome_I1_Part_3.txt',\n     'Bxl_1902_Tome_I1_Part_4.txt',\n     'Bxl_1902_Tome_I1_Part_5.txt',\n     'Bxl_1902_Tome_I1_Part_6.txt',\n     'Bxl_1902_Tome_I1_Part_7.txt',\n     'Bxl_1902_Tome_I2_2_Part_1.txt',\n     'Bxl_1902_Tome_I2_2_Part_2.txt',\n     'Bxl_1902_Tome_I2_2_Part_3.txt',\n     'Bxl_1902_Tome_I2_2_Part_4.txt',\n     'Bxl_1902_Tome_I2_2_Part_5.txt',\n     'Bxl_1902_Tome_I2_2_Part_6.txt',\n     'Bxl_1902_Tome_I2_2_Part_7.txt',\n     'Bxl_1902_Tome_I2_2_Part_8.txt',\n     'Bxl_1902_Tome_I2_2_Part_9.txt',\n     'Bxl_1903_Tome_I1_Part_1.txt',\n     'Bxl_1903_Tome_I1_Part_2.txt',\n     'Bxl_1903_Tome_I1_Part_3.txt',\n     'Bxl_1903_Tome_I1_Part_4.txt',\n     'Bxl_1903_Tome_I1_Part_5.txt',\n     'Bxl_1903_Tome_I1_Part_6.txt',\n     'Bxl_1903_Tome_I1_Part_7.txt',\n     'Bxl_1903_Tome_I1_Part_8.txt',\n     'Bxl_1903_Tome_I1_Part_9.txt',\n     'Bxl_1903_Tome_I2_1_Part_1.txt',\n     'Bxl_1903_Tome_I2_1_Part_10.txt',\n     'Bxl_1903_Tome_I2_1_Part_2.txt',\n     'Bxl_1903_Tome_I2_1_Part_3.txt',\n     'Bxl_1903_Tome_I2_1_Part_4.txt',\n     'Bxl_1903_Tome_I2_1_Part_5.txt',\n     'Bxl_1903_Tome_I2_1_Part_6.txt',\n     'Bxl_1903_Tome_I2_1_Part_7.txt',\n     'Bxl_1903_Tome_I2_1_Part_8.txt',\n     'Bxl_1903_Tome_I2_1_Part_9.txt',\n     'Bxl_1903_Tome_I2_2_Part_1.txt',\n     'Bxl_1903_Tome_I2_2_Part_10.txt',\n     'Bxl_1903_Tome_I2_2_Part_11.txt',\n     'Bxl_1903_Tome_I2_2_Part_12.txt',\n     'Bxl_1903_Tome_I2_2_Part_2.txt',\n     'Bxl_1903_Tome_I2_2_Part_3.txt',\n     'Bxl_1903_Tome_I2_2_Part_4.txt',\n     'Bxl_1903_Tome_I2_2_Part_5.txt',\n     'Bxl_1903_Tome_I2_2_Part_6.txt',\n     'Bxl_1903_Tome_I2_2_Part_7.txt',\n     'Bxl_1903_Tome_I2_2_Part_8.txt',\n     'Bxl_1903_Tome_I2_2_Part_9.txt',\n     'Bxl_1904_Tome_I2_Part_1.txt',\n     'Bxl_1904_Tome_I2_Part_10.txt',\n     'Bxl_1904_Tome_I2_Part_11.txt',\n     'Bxl_1904_Tome_I2_Part_12.txt',\n     'Bxl_1904_Tome_I2_Part_13.txt',\n     'Bxl_1904_Tome_I2_Part_14.txt',\n     'Bxl_1904_Tome_I2_Part_15.txt',\n     'Bxl_1904_Tome_I2_Part_16.txt',\n     'Bxl_1904_Tome_I2_Part_17.txt',\n     'Bxl_1904_Tome_I2_Part_18.txt',\n     'Bxl_1904_Tome_I2_Part_2.txt',\n     'Bxl_1904_Tome_I2_Part_3.txt',\n     'Bxl_1904_Tome_I2_Part_4.txt',\n     'Bxl_1904_Tome_I2_Part_5.txt',\n     'Bxl_1904_Tome_I2_Part_6.txt',\n     'Bxl_1904_Tome_I2_Part_7.txt',\n     'Bxl_1904_Tome_I2_Part_8.txt',\n     'Bxl_1904_Tome_I2_Part_9.txt',\n     'Bxl_1905_Tome_I1_Part_1.txt',\n     'Bxl_1905_Tome_I1_Part_10.txt',\n     'Bxl_1905_Tome_I1_Part_11.txt',\n     'Bxl_1905_Tome_I1_Part_12.txt',\n     'Bxl_1905_Tome_I1_Part_2.txt',\n     'Bxl_1905_Tome_I1_Part_3.txt',\n     'Bxl_1905_Tome_I1_Part_4.txt',\n     'Bxl_1905_Tome_I1_Part_5.txt',\n     'Bxl_1905_Tome_I1_Part_6.txt',\n     'Bxl_1905_Tome_I1_Part_7.txt',\n     'Bxl_1905_Tome_I1_Part_8.txt',\n     'Bxl_1905_Tome_I1_Part_9.txt',\n     'Bxl_1905_Tome_I2_Part_1.txt',\n     'Bxl_1905_Tome_I2_Part_10.txt',\n     'Bxl_1905_Tome_I2_Part_11.txt',\n     'Bxl_1905_Tome_I2_Part_12.txt',\n     'Bxl_1905_Tome_I2_Part_13.txt',\n     'Bxl_1905_Tome_I2_Part_14.txt',\n     'Bxl_1905_Tome_I2_Part_2.txt',\n     'Bxl_1905_Tome_I2_Part_3.txt',\n     'Bxl_1905_Tome_I2_Part_4.txt',\n     'Bxl_1905_Tome_I2_Part_5.txt',\n     'Bxl_1905_Tome_I2_Part_6.txt',\n     'Bxl_1905_Tome_I2_Part_7.txt',\n     'Bxl_1905_Tome_I2_Part_8.txt',\n     'Bxl_1905_Tome_I2_Part_9.txt',\n     'Bxl_1906_Tome_I1_Part_1.txt',\n     'Bxl_1906_Tome_I1_Part_10.txt',\n     'Bxl_1906_Tome_I1_Part_11.txt',\n     'Bxl_1906_Tome_I1_Part_12.txt',\n     'Bxl_1906_Tome_I1_Part_13.txt',\n     'Bxl_1906_Tome_I1_Part_2.txt',\n     'Bxl_1906_Tome_I1_Part_3.txt',\n     'Bxl_1906_Tome_I1_Part_4.txt',\n     'Bxl_1906_Tome_I1_Part_5.txt',\n     'Bxl_1906_Tome_I1_Part_6.txt',\n     'Bxl_1906_Tome_I1_Part_7.txt',\n     'Bxl_1906_Tome_I1_Part_8.txt',\n     'Bxl_1906_Tome_I1_Part_9.txt',\n     'Bxl_1907_Tome_I2_Part_1.txt',\n     'Bxl_1907_Tome_I2_Part_10.txt',\n     'Bxl_1907_Tome_I2_Part_11.txt',\n     'Bxl_1907_Tome_I2_Part_12.txt',\n     'Bxl_1907_Tome_I2_Part_13.txt',\n     'Bxl_1907_Tome_I2_Part_14.txt',\n     'Bxl_1907_Tome_I2_Part_15.txt',\n     'Bxl_1907_Tome_I2_Part_16.txt',\n     'Bxl_1907_Tome_I2_Part_2.txt',\n     'Bxl_1907_Tome_I2_Part_3.txt',\n     'Bxl_1907_Tome_I2_Part_4.txt',\n     'Bxl_1907_Tome_I2_Part_5.txt',\n     'Bxl_1907_Tome_I2_Part_6.txt',\n     'Bxl_1907_Tome_I2_Part_7.txt',\n     'Bxl_1907_Tome_I2_Part_8.txt',\n     'Bxl_1907_Tome_I2_Part_9.txt',\n     'Bxl_1908_Tome_I1_Part_1.txt',\n     'Bxl_1908_Tome_I1_Part_10.txt',\n     'Bxl_1908_Tome_I1_Part_11.txt',\n     'Bxl_1908_Tome_I1_Part_12.txt',\n     'Bxl_1908_Tome_I1_Part_13.txt',\n     'Bxl_1908_Tome_I1_Part_2.txt',\n     'Bxl_1908_Tome_I1_Part_3.txt',\n     'Bxl_1908_Tome_I1_Part_4.txt',\n     'Bxl_1908_Tome_I1_Part_5.txt',\n     'Bxl_1908_Tome_I1_Part_6.txt',\n     'Bxl_1908_Tome_I1_Part_7.txt',\n     'Bxl_1908_Tome_I1_Part_8.txt',\n     'Bxl_1908_Tome_I1_Part_9.txt',\n     'Bxl_1909_Tome_I2_1_Part_1.txt',\n     'Bxl_1909_Tome_I2_1_Part_10.txt',\n     'Bxl_1909_Tome_I2_1_Part_2.txt',\n     'Bxl_1909_Tome_I2_1_Part_3.txt',\n     'Bxl_1909_Tome_I2_1_Part_4.txt',\n     'Bxl_1909_Tome_I2_1_Part_5.txt',\n     'Bxl_1909_Tome_I2_1_Part_6.txt',\n     'Bxl_1909_Tome_I2_1_Part_7.txt',\n     'Bxl_1909_Tome_I2_1_Part_8.txt',\n     'Bxl_1909_Tome_I2_1_Part_9.txt',\n     'Bxl_1909_Tome_I2_2_Part_1.txt',\n     'Bxl_1909_Tome_I2_2_Part_10.txt',\n     'Bxl_1909_Tome_I2_2_Part_2.txt',\n     'Bxl_1909_Tome_I2_2_Part_3.txt',\n     'Bxl_1909_Tome_I2_2_Part_4.txt',\n     'Bxl_1909_Tome_I2_2_Part_5.txt',\n     'Bxl_1909_Tome_I2_2_Part_6.txt',\n     'Bxl_1909_Tome_I2_2_Part_7.txt',\n     'Bxl_1909_Tome_I2_2_Part_8.txt',\n     'Bxl_1909_Tome_I2_2_Part_9.txt',\n     'Bxl_1909_Tome_II1_Part_3.txt',\n     'Lkn_1901_Tome_RptAn_Part_1.txt',\n     'Lkn_1901_Tome_RptAn_Part_10.txt',\n     'Lkn_1901_Tome_RptAn_Part_2.txt',\n     'Lkn_1901_Tome_RptAn_Part_3.txt',\n     'Lkn_1901_Tome_RptAn_Part_4.txt',\n     'Lkn_1901_Tome_RptAn_Part_5.txt',\n     'Lkn_1901_Tome_RptAn_Part_6.txt',\n     'Lkn_1901_Tome_RptAn_Part_7.txt',\n     'Lkn_1901_Tome_RptAn_Part_8.txt',\n     'Lkn_1901_Tome_RptAn_Part_9.txt']}\n"
     ]
    }
   ],
   "source": [
    "pprint(dict(clustering))"
   ]
  },
  {
   "cell_type": "code",
   "execution_count": null,
   "metadata": {},
   "outputs": [],
   "source": []
  }
 ]
}